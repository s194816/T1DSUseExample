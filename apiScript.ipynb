{
 "cells": [
  {
   "cell_type": "code",
   "execution_count": 21,
   "metadata": {},
   "outputs": [],
   "source": [
    "import requests"
   ]
  },
  {
   "cell_type": "code",
   "execution_count": 22,
   "metadata": {},
   "outputs": [
    {
     "data": {
      "text/plain": [
       "{'name': 'Anna Sky', 'height': 167, 'weight': 50, 'ssbg': 90}"
      ]
     },
     "execution_count": 22,
     "metadata": {},
     "output_type": "execute_result"
    }
   ],
   "source": [
    "# 1. create new patient\n",
    "api_url = \"http://localhost:8080/patient\"\n",
    "newPat = {\n",
    "    \"name\": \"Anna Sky\",\n",
    "    \"height\": 167,\n",
    "    \"weight\": 50,\n",
    "    \"ssbg\": 90\n",
    "}\n",
    "\n",
    "response = requests.post(api_url, json = newPat)\n",
    "response.json()"
   ]
  },
  {
   "cell_type": "code",
   "execution_count": 23,
   "metadata": {},
   "outputs": [
    {
     "data": {
      "text/plain": [
       "{'name': 'Anna Sky', 'height': 167, 'weight': 50, 'ssbg': 90}"
      ]
     },
     "execution_count": 23,
     "metadata": {},
     "output_type": "execute_result"
    }
   ],
   "source": [
    "# 2. get info of patient 6\n",
    "api_url = \"http://localhost:8080/patient/6\"\n",
    "response = requests.get(api_url)\n",
    "response.json()"
   ]
  },
  {
   "cell_type": "code",
   "execution_count": 24,
   "metadata": {},
   "outputs": [
    {
     "data": {
      "text/plain": [
       "{'name': 'Anna Sky', 'height': 165, 'weight': 50, 'ssbg': 90}"
      ]
     },
     "execution_count": 24,
     "metadata": {},
     "output_type": "execute_result"
    }
   ],
   "source": [
    "# 3. edit info of patient 6\n",
    "\n",
    "api_url = \"http://localhost:8080/patient/6\"\n",
    "editedPat = {\n",
    "    \"name\": \"Anna Sky\",\n",
    "    \"height\": 165,\n",
    "    \"weight\": 50,\n",
    "    \"ssbg\": 90\n",
    "}\n",
    "\n",
    "response = requests.put(api_url, json = editedPat)\n",
    "response.json()"
   ]
  },
  {
   "cell_type": "code",
   "execution_count": 25,
   "metadata": {},
   "outputs": [
    {
     "data": {
      "text/plain": [
       "{'name': 'Andrea', 'height': 185, 'weight': 81, 'ssbg': 90}"
      ]
     },
     "execution_count": 25,
     "metadata": {},
     "output_type": "execute_result"
    }
   ],
   "source": [
    "# 4. delete patient 4\n",
    "api_url = \"http://localhost:8080/patient/4\"\n",
    "response = requests.delete(api_url)\n",
    "response.json()"
   ]
  },
  {
   "cell_type": "code",
   "execution_count": 26,
   "metadata": {},
   "outputs": [
    {
     "data": {
      "text/plain": [
       "{'name': 'Anna Sky', 'height': 165, 'weight': 50, 'ssbg': 90}"
      ]
     },
     "execution_count": 26,
     "metadata": {},
     "output_type": "execute_result"
    }
   ],
   "source": [
    "# 5. start simulation of patient 5\n",
    "api_url = \"http://localhost:8080/patient/5/StartSim?model=MVP\"\n",
    "response = requests.get(api_url)\n",
    "response.json()"
   ]
  },
  {
   "cell_type": "code",
   "execution_count": 28,
   "metadata": {},
   "outputs": [
    {
     "data": {
      "text/plain": [
       "{'name': 'Anna', 'height': 165, 'weight': 52, 'ssbg': 80}"
      ]
     },
     "execution_count": 28,
     "metadata": {},
     "output_type": "execute_result"
    }
   ],
   "source": [
    "# 6. patient 0 eats a meal\n",
    "\n",
    "api_url = \"http://localhost:8080/patient/AddEvent/0\"\n",
    "newEvent = {\n",
    "    \"carbs\": 111,\n",
    "    \"bolus\": 11\n",
    "}\n",
    "response = requests.post(api_url, json = newEvent)\n",
    "response.json()"
   ]
  }
 ],
 "metadata": {
  "kernelspec": {
   "display_name": "Python 3.10.6 64-bit",
   "language": "python",
   "name": "python3"
  },
  "language_info": {
   "codemirror_mode": {
    "name": "ipython",
    "version": 3
   },
   "file_extension": ".py",
   "mimetype": "text/x-python",
   "name": "python",
   "nbconvert_exporter": "python",
   "pygments_lexer": "ipython3",
   "version": "3.10.6"
  },
  "orig_nbformat": 4,
  "vscode": {
   "interpreter": {
    "hash": "aee8b7b246df8f9039afb4144a1f6fd8d2ca17a180786b69acc140d282b71a49"
   }
  }
 },
 "nbformat": 4,
 "nbformat_minor": 2
}
